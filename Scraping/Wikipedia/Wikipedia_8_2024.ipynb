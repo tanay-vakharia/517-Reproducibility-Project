{
 "cells": [
  {
   "cell_type": "code",
   "execution_count": null,
   "metadata": {
    "colab": {
     "base_uri": "https://localhost:8080/"
    },
    "executionInfo": {
     "elapsed": 21845,
     "status": "ok",
     "timestamp": 1741843608413,
     "user": {
      "displayName": "Parker",
      "userId": "10938916070945134543"
     },
     "user_tz": 420
    },
    "id": "rIq10oeCCZfj",
    "outputId": "572ace27-d6be-4eb2-d534-7fe2cacc3ac3"
   },
   "outputs": [],
   "source": [
    "!pip install requests\n",
    "!pip install beautifulsoup4\n",
    "!pip install wikipedia-api\n",
    "!pip install tqdm\n",
    "!pip install random"
   ]
  },
  {
   "cell_type": "code",
   "execution_count": null,
   "metadata": {
    "colab": {
     "base_uri": "https://localhost:8080/"
    },
    "executionInfo": {
     "elapsed": 40899,
     "status": "ok",
     "timestamp": 1741843649321,
     "user": {
      "displayName": "Parker",
      "userId": "10938916070945134543"
     },
     "user_tz": 420
    },
    "id": "ivm6I1Q-fKT4",
    "outputId": "3de3db51-5f23-4535-f3c3-98d4c889c64e"
   },
   "outputs": [],
   "source": [
    "from google.colab import drive\n",
    "drive.mount('/content/drive')"
   ]
  },
  {
   "cell_type": "code",
   "execution_count": 7,
   "metadata": {
    "executionInfo": {
     "elapsed": 4,
     "status": "ok",
     "timestamp": 1741843722068,
     "user": {
      "displayName": "Parker",
      "userId": "10938916070945134543"
     },
     "user_tz": 420
    },
    "id": "CfiXxPI1CYsc"
   },
   "outputs": [],
   "source": [
    "import requests\n",
    "from bs4 import BeautifulSoup\n",
    "import wikipediaapi\n",
    "import json\n",
    "from tqdm import tqdm\n",
    "import time\n",
    "import random\n",
    "from urllib.parse import unquote\n",
    "import re"
   ]
  },
  {
   "cell_type": "code",
   "execution_count": null,
   "metadata": {
    "id": "ffzHnHoDlY7k"
   },
   "outputs": [],
   "source": [
    "def get_creation_date(page_url):\n",
    "    \"\"\"\n",
    "    This function uses the Wikipedia API to fetch the revision history of a page\n",
    "    and checks if the creation date is in August 2024.\n",
    "    \"\"\"\n",
    "    # Extract the page title from the URL and decode it\n",
    "    page_title = unquote(page_url.split('/')[-1])\n",
    "\n",
    "    # Wikipedia API URL for page revisions\n",
    "    api_url = f\"https://en.wikipedia.org/w/api.php\"\n",
    "    params = {\n",
    "        'action': 'query',\n",
    "        'titles': page_title,\n",
    "        'prop': 'revisions',\n",
    "        'rvlimit': 1,  # Only need the first revision (creation)\n",
    "        'rvdir': 'newer',\n",
    "        'format': 'json',\n",
    "    }\n",
    "\n",
    "    response = requests.get(api_url, params=params)\n",
    "    data = response.json()\n",
    "\n",
    "    # Check if the page exists and has revisions\n",
    "    pages = data.get('query', {}).get('pages', {})\n",
    "    for page_id, page_data in pages.items():\n",
    "        if 'revisions' in page_data:\n",
    "            creation_timestamp = page_data['revisions'][0]['timestamp']\n",
    "            # Parse the timestamp to check if it falls within August 2024\n",
    "            creation_date = creation_timestamp[:7]  # Format: YYYY-MM\n",
    "            if creation_date == '2024-08':\n",
    "                print(f\"Article '{page_title}' created on {creation_date}\")  # Debugging: Print creation date\n",
    "                return True\n",
    "\n",
    "    return False\n",
    "\n",
    "\n",
    "def scrape_wikipedia_all_pages(limit=2000):\n",
    "    base_url = \"https://en.wikipedia.org/w/index.php?title=Special:AllPages&from=%22Ako+ang+Batas%22+-Gen.+Tomas+Karingal\"\n",
    "    next_page = None\n",
    "    articles = []\n",
    "    page_count = 0\n",
    "\n",
    "    while len(articles) < limit:\n",
    "        url = base_url if not next_page else f\"https://en.wikipedia.org{next_page}\"\n",
    "        print(f\"Fetching {url}\")\n",
    "        headers = {\"User-Agent\": \"Mozilla/5.0\"}\n",
    "\n",
    "        try:\n",
    "            response = requests.get(url, headers=headers, timeout=10)\n",
    "            response.raise_for_status()\n",
    "        except requests.RequestException as e:\n",
    "            print(f\"Error fetching {url}: {e}\")\n",
    "            time.sleep(5)\n",
    "            continue\n",
    "\n",
    "        soup = BeautifulSoup(response.text, \"html.parser\")\n",
    "\n",
    "        for link in soup.select(\".mw-allpages-chunk a\"):\n",
    "            title = link.text\n",
    "            article_url = f\"https://en.wikipedia.org{link['href']}\"\n",
    "\n",
    "            if get_creation_date(article_url):\n",
    "                articles.append((title, article_url))\n",
    "                if len(articles) >= limit:\n",
    "                    break\n",
    "\n",
    "        next_link = soup.find(\"a\", string=lambda text: text and text.startswith(\"Next page\"))\n",
    "        if next_link:\n",
    "            next_page = next_link[\"href\"]\n",
    "            print(f\"Next page found: {next_page}\")\n",
    "        else:\n",
    "            print(\"No more pages to scrape.\")\n",
    "            break\n",
    "\n",
    "        page_count += 1\n",
    "        print(f\"✅ Scraped {len(articles)} articles so far... (Page {page_count})\")\n",
    "\n",
    "        time.sleep(random.uniform(1, 3))\n",
    "\n",
    "    print(f\"✅ Finished scraping {len(articles)} articles.\")\n",
    "    return articles\n"
   ]
  },
  {
   "cell_type": "code",
   "execution_count": 4,
   "metadata": {
    "executionInfo": {
     "elapsed": 3,
     "status": "ok",
     "timestamp": 1741843650603,
     "user": {
      "displayName": "Parker",
      "userId": "10938916070945134543"
     },
     "user_tz": 420
    },
    "id": "-sc0epN_Chjt"
   },
   "outputs": [],
   "source": [
    "def scrape_wikipedia_article(page_title, wiki_wiki, max_retries=3):\n",
    "    for attempt in range(max_retries):\n",
    "        try:\n",
    "            page = wiki_wiki.page(page_title)\n",
    "            if not page.exists():\n",
    "                print(f\"Page '{page_title}' does not exist.\")\n",
    "                return None\n",
    "            return page.text\n",
    "        except (requests.RequestException, requests.Timeout) as e:\n",
    "            if attempt < max_retries - 1:\n",
    "                print(f\"Error scraping '{page_title}'. Retrying... (Attempt {attempt + 1}/{max_retries})\")\n",
    "                time.sleep(random.uniform(2, 5))\n",
    "            else:\n",
    "                print(f\"Failed to scrape '{page_title}' after {max_retries} attempts.\")\n",
    "                return None"
   ]
  },
  {
   "cell_type": "code",
   "execution_count": 5,
   "metadata": {
    "executionInfo": {
     "elapsed": 3,
     "status": "ok",
     "timestamp": 1741843650609,
     "user": {
      "displayName": "Parker",
      "userId": "10938916070945134543"
     },
     "user_tz": 420
    },
    "id": "ATGLloBEhdqL"
   },
   "outputs": [],
   "source": [
    "article_limit = 1000\n",
    "file_path = '/content/drive/My Drive/CSE 517 Project/Colabs/Scraping/Wikipedia/scraped_wiki_articles_8_2024.json'"
   ]
  },
  {
   "cell_type": "code",
   "execution_count": null,
   "metadata": {
    "colab": {
     "base_uri": "https://localhost:8080/"
    },
    "executionInfo": {
     "elapsed": 31150487,
     "status": "error",
     "timestamp": 1741691839694,
     "user": {
      "displayName": "Parker",
      "userId": "10938916070945134543"
     },
     "user_tz": 420
    },
    "id": "ztsZgwj0CkEo",
    "outputId": "b9f497bf-86f1-42dd-90b0-094a448c6a16"
   },
   "outputs": [],
   "source": [
    "print(f\"Starting to collect {article_limit} recent articles...\")\n",
    "articles = scrape_wikipedia_all_pages(article_limit)\n",
    "print(f\"Collected {len(articles)} articles.\")\n",
    "data = []\n",
    "\n",
    "wiki_wiki = wikipediaapi.Wikipedia(\n",
    "    user_agent='WikipediaScraper (your_email@example.com)',\n",
    "    language='en',\n",
    "    timeout=30\n",
    ")\n",
    "\n",
    "for article_title, article_url in tqdm(articles, desc=\"Scraping articles\"):\n",
    "    content = scrape_wikipedia_article(article_title, wiki_wiki)\n",
    "    if content:\n",
    "        data.append({\n",
    "            'title': article_title,\n",
    "            'url': article_url,\n",
    "            'content': content\n",
    "        })\n",
    "    time.sleep(random.uniform(0.5, 1.5))  # Random delay between article scrapes\n",
    "\n",
    "with open(file_path, 'w', encoding='utf-8') as f:\n",
    "    json.dump(data, f, ensure_ascii=False, indent=4)\n",
    "\n",
    "print(f\"Scraped data has been saved to {file_path}\")\n"
   ]
  }
 ],
 "metadata": {
  "colab": {
   "provenance": []
  },
  "kernelspec": {
   "display_name": "Python 3",
   "name": "python3"
  },
  "language_info": {
   "name": "python"
  }
 },
 "nbformat": 4,
 "nbformat_minor": 0
}
