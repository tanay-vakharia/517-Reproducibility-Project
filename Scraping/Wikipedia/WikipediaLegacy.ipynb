{
 "cells": [
  {
   "cell_type": "markdown",
   "metadata": {
    "id": "yZKRAT0NYvTi"
   },
   "source": [
    "https://github.com/brooksca3/wiki_collection/blob/main/scraping/wikipedia/run_wiki_scrape.py"
   ]
  },
  {
   "cell_type": "markdown",
   "metadata": {
    "id": "qCQ-swcDaOGr"
   },
   "source": [
    "# LEGACY DATA (HUGGINGFACE)\n"
   ]
  },
  {
   "cell_type": "code",
   "execution_count": null,
   "metadata": {
    "colab": {
     "base_uri": "https://localhost:8080/"
    },
    "executionInfo": {
     "elapsed": 5743,
     "status": "ok",
     "timestamp": 1740263207244,
     "user": {
      "displayName": "Tanay Vakharia",
      "userId": "01737987164769102172"
     },
     "user_tz": 480
    },
    "id": "C8omfQf3gCVH",
    "outputId": "3d8fc413-a1a1-4290-e79f-92798b39c208"
   },
   "outputs": [],
   "source": [
    "# We need to get a count of words in the wikipedia dataset so that we can see how much it'll cost us with GPTZero\n",
    "\n",
    "!pip install datasets\n",
    "# !pip install mwparserfromhell\n",
    "\n",
    "# !pip install git+https://github.com/Liadrinz/transformers-unilm\n",
    "# !pip install git+https://github.com/huggingface/transformers\n",
    "# !pip install --no-deps llmdet\n",
    "# !pip install scikit-learn transformers nltk lightgbm numpy\n"
   ]
  },
  {
   "cell_type": "code",
   "execution_count": null,
   "metadata": {
    "id": "LeW4LmJMaSuQ"
   },
   "outputs": [],
   "source": [
    "import os\n",
    "from datasets import load_dataset, load_from_disk\n",
    "\n",
    "SAVE_PATH = '/content/data/wiki_dataset'\n",
    "\n",
    "def get_wikipedia_dataset():\n",
    "    # Check if dataset already exists on disk\n",
    "    if os.path.exists(SAVE_PATH):\n",
    "        print(\"Loading dataset from disk...\")\n",
    "        dataset = load_from_disk(SAVE_PATH)\n",
    "    else:\n",
    "        print(\"Dataset not found on disk. Downloading from Hugging Face...\")\n",
    "        # Create directory if it doesn't exist\n",
    "        os.makedirs('/content/data', exist_ok=True)\n",
    "\n",
    "        # Download and load the dataset\n",
    "        dataset = load_dataset(\"wikipedia\", \"20220301.en\")\n",
    "\n",
    "        # Save to disk\n",
    "        print(\"Saving dataset to disk...\")\n",
    "        dataset.save_to_disk(SAVE_PATH)\n",
    "\n",
    "    print(\"Dataset is ready!\")\n",
    "    return dataset"
   ]
  },
  {
   "cell_type": "code",
   "execution_count": null,
   "metadata": {
    "colab": {
     "base_uri": "https://localhost:8080/",
     "height": 85,
     "referenced_widgets": [
      "6a2a7ffa54354817af36e2b28d0fc93b",
      "d7f684773f92464782660c0a2d0f735f",
      "b5015c60fd5f4be1906c194964b85ab0",
      "099d4d7c13404e9ea52e00d2b2ed3d3e",
      "e66d4488dc514363a46a8ed0c87cc7b4",
      "110b54082e8f46b7ac90247146e40d33",
      "6feda19c62d7405fa1525cb7f87a41c3",
      "62cd37738f554787b68b856e69bea794",
      "e996326846754bb7a571647de3e37ded",
      "7a1cf52802dc4c6fa6af9683cdccedb3",
      "d6909f8cf5554dbca6da8dc94cf7e92a"
     ]
    },
    "executionInfo": {
     "elapsed": 76560,
     "status": "ok",
     "timestamp": 1740263453453,
     "user": {
      "displayName": "Phil Bedford",
      "userId": "17423175767115438447"
     },
     "user_tz": 480
    },
    "id": "XK0ozRGSiMPz",
    "outputId": "86e90c16-0142-44ac-e92b-e31372aac049"
   },
   "outputs": [],
   "source": [
    "legacy_dataset = get_wikipedia_dataset()\n",
    "\n",
    "# print(\"Printing a sample word split\")\n",
    "# sample = legacy_dataset['train'][0]\n",
    "# print(sample['text'].split())"
   ]
  },
  {
   "cell_type": "code",
   "execution_count": null,
   "metadata": {
    "colab": {
     "base_uri": "https://localhost:8080/"
    },
    "executionInfo": {
     "elapsed": 12,
     "status": "ok",
     "timestamp": 1740263453468,
     "user": {
      "displayName": "Phil Bedford",
      "userId": "17423175767115438447"
     },
     "user_tz": 480
    },
    "id": "09Ef_bIKfHAK",
    "outputId": "92b9e9cc-b803-47c2-904d-b3a18db5c77c"
   },
   "outputs": [],
   "source": [
    "print(len(legacy_dataset['train']))\n",
    "\n",
    "articles = 0\n",
    "words = 0\n",
    "\n",
    "# for example in legacy_dataset['train']:\n",
    "\n",
    "#     words += len(example['text'].split())\n",
    "#     articles += 1\n",
    "#     if words >= 300000: break\n",
    "\n",
    "# for i in range(60):\n",
    "#     words += len(legacy_dataset['train'][i]['text'].split())"
   ]
  }
 ],
 "metadata": {
  "colab": {
   "provenance": []
  },
  "kernelspec": {
   "display_name": "Python 3",
   "name": "python3"
  },
  "language_info": {
   "name": "python"
  },
  "widgets": {
   "application/vnd.jupyter.widget-state+json": {
    "099d4d7c13404e9ea52e00d2b2ed3d3e": {
     "model_module": "@jupyter-widgets/controls",
     "model_module_version": "1.5.0",
     "model_name": "HTMLModel",
     "state": {
      "_dom_classes": [],
      "_model_module": "@jupyter-widgets/controls",
      "_model_module_version": "1.5.0",
      "_model_name": "HTMLModel",
      "_view_count": null,
      "_view_module": "@jupyter-widgets/controls",
      "_view_module_version": "1.5.0",
      "_view_name": "HTMLView",
      "description": "",
      "description_tooltip": null,
      "layout": "IPY_MODEL_7a1cf52802dc4c6fa6af9683cdccedb3",
      "placeholder": "​",
      "style": "IPY_MODEL_d6909f8cf5554dbca6da8dc94cf7e92a",
      "value": " 41/41 [01:16&lt;00:00,  1.73s/it]"
     }
    },
    "110b54082e8f46b7ac90247146e40d33": {
     "model_module": "@jupyter-widgets/base",
     "model_module_version": "1.2.0",
     "model_name": "LayoutModel",
     "state": {
      "_model_module": "@jupyter-widgets/base",
      "_model_module_version": "1.2.0",
      "_model_name": "LayoutModel",
      "_view_count": null,
      "_view_module": "@jupyter-widgets/base",
      "_view_module_version": "1.2.0",
      "_view_name": "LayoutView",
      "align_content": null,
      "align_items": null,
      "align_self": null,
      "border": null,
      "bottom": null,
      "display": null,
      "flex": null,
      "flex_flow": null,
      "grid_area": null,
      "grid_auto_columns": null,
      "grid_auto_flow": null,
      "grid_auto_rows": null,
      "grid_column": null,
      "grid_gap": null,
      "grid_row": null,
      "grid_template_areas": null,
      "grid_template_columns": null,
      "grid_template_rows": null,
      "height": null,
      "justify_content": null,
      "justify_items": null,
      "left": null,
      "margin": null,
      "max_height": null,
      "max_width": null,
      "min_height": null,
      "min_width": null,
      "object_fit": null,
      "object_position": null,
      "order": null,
      "overflow": null,
      "overflow_x": null,
      "overflow_y": null,
      "padding": null,
      "right": null,
      "top": null,
      "visibility": null,
      "width": null
     }
    },
    "62cd37738f554787b68b856e69bea794": {
     "model_module": "@jupyter-widgets/base",
     "model_module_version": "1.2.0",
     "model_name": "LayoutModel",
     "state": {
      "_model_module": "@jupyter-widgets/base",
      "_model_module_version": "1.2.0",
      "_model_name": "LayoutModel",
      "_view_count": null,
      "_view_module": "@jupyter-widgets/base",
      "_view_module_version": "1.2.0",
      "_view_name": "LayoutView",
      "align_content": null,
      "align_items": null,
      "align_self": null,
      "border": null,
      "bottom": null,
      "display": null,
      "flex": null,
      "flex_flow": null,
      "grid_area": null,
      "grid_auto_columns": null,
      "grid_auto_flow": null,
      "grid_auto_rows": null,
      "grid_column": null,
      "grid_gap": null,
      "grid_row": null,
      "grid_template_areas": null,
      "grid_template_columns": null,
      "grid_template_rows": null,
      "height": null,
      "justify_content": null,
      "justify_items": null,
      "left": null,
      "margin": null,
      "max_height": null,
      "max_width": null,
      "min_height": null,
      "min_width": null,
      "object_fit": null,
      "object_position": null,
      "order": null,
      "overflow": null,
      "overflow_x": null,
      "overflow_y": null,
      "padding": null,
      "right": null,
      "top": null,
      "visibility": null,
      "width": null
     }
    },
    "6a2a7ffa54354817af36e2b28d0fc93b": {
     "model_module": "@jupyter-widgets/controls",
     "model_module_version": "1.5.0",
     "model_name": "HBoxModel",
     "state": {
      "_dom_classes": [],
      "_model_module": "@jupyter-widgets/controls",
      "_model_module_version": "1.5.0",
      "_model_name": "HBoxModel",
      "_view_count": null,
      "_view_module": "@jupyter-widgets/controls",
      "_view_module_version": "1.5.0",
      "_view_name": "HBoxView",
      "box_style": "",
      "children": [
       "IPY_MODEL_d7f684773f92464782660c0a2d0f735f",
       "IPY_MODEL_b5015c60fd5f4be1906c194964b85ab0",
       "IPY_MODEL_099d4d7c13404e9ea52e00d2b2ed3d3e"
      ],
      "layout": "IPY_MODEL_e66d4488dc514363a46a8ed0c87cc7b4"
     }
    },
    "6feda19c62d7405fa1525cb7f87a41c3": {
     "model_module": "@jupyter-widgets/controls",
     "model_module_version": "1.5.0",
     "model_name": "DescriptionStyleModel",
     "state": {
      "_model_module": "@jupyter-widgets/controls",
      "_model_module_version": "1.5.0",
      "_model_name": "DescriptionStyleModel",
      "_view_count": null,
      "_view_module": "@jupyter-widgets/base",
      "_view_module_version": "1.2.0",
      "_view_name": "StyleView",
      "description_width": ""
     }
    },
    "7a1cf52802dc4c6fa6af9683cdccedb3": {
     "model_module": "@jupyter-widgets/base",
     "model_module_version": "1.2.0",
     "model_name": "LayoutModel",
     "state": {
      "_model_module": "@jupyter-widgets/base",
      "_model_module_version": "1.2.0",
      "_model_name": "LayoutModel",
      "_view_count": null,
      "_view_module": "@jupyter-widgets/base",
      "_view_module_version": "1.2.0",
      "_view_name": "LayoutView",
      "align_content": null,
      "align_items": null,
      "align_self": null,
      "border": null,
      "bottom": null,
      "display": null,
      "flex": null,
      "flex_flow": null,
      "grid_area": null,
      "grid_auto_columns": null,
      "grid_auto_flow": null,
      "grid_auto_rows": null,
      "grid_column": null,
      "grid_gap": null,
      "grid_row": null,
      "grid_template_areas": null,
      "grid_template_columns": null,
      "grid_template_rows": null,
      "height": null,
      "justify_content": null,
      "justify_items": null,
      "left": null,
      "margin": null,
      "max_height": null,
      "max_width": null,
      "min_height": null,
      "min_width": null,
      "object_fit": null,
      "object_position": null,
      "order": null,
      "overflow": null,
      "overflow_x": null,
      "overflow_y": null,
      "padding": null,
      "right": null,
      "top": null,
      "visibility": null,
      "width": null
     }
    },
    "b5015c60fd5f4be1906c194964b85ab0": {
     "model_module": "@jupyter-widgets/controls",
     "model_module_version": "1.5.0",
     "model_name": "FloatProgressModel",
     "state": {
      "_dom_classes": [],
      "_model_module": "@jupyter-widgets/controls",
      "_model_module_version": "1.5.0",
      "_model_name": "FloatProgressModel",
      "_view_count": null,
      "_view_module": "@jupyter-widgets/controls",
      "_view_module_version": "1.5.0",
      "_view_name": "ProgressView",
      "bar_style": "success",
      "description": "",
      "description_tooltip": null,
      "layout": "IPY_MODEL_62cd37738f554787b68b856e69bea794",
      "max": 41,
      "min": 0,
      "orientation": "horizontal",
      "style": "IPY_MODEL_e996326846754bb7a571647de3e37ded",
      "value": 41
     }
    },
    "d6909f8cf5554dbca6da8dc94cf7e92a": {
     "model_module": "@jupyter-widgets/controls",
     "model_module_version": "1.5.0",
     "model_name": "DescriptionStyleModel",
     "state": {
      "_model_module": "@jupyter-widgets/controls",
      "_model_module_version": "1.5.0",
      "_model_name": "DescriptionStyleModel",
      "_view_count": null,
      "_view_module": "@jupyter-widgets/base",
      "_view_module_version": "1.2.0",
      "_view_name": "StyleView",
      "description_width": ""
     }
    },
    "d7f684773f92464782660c0a2d0f735f": {
     "model_module": "@jupyter-widgets/controls",
     "model_module_version": "1.5.0",
     "model_name": "HTMLModel",
     "state": {
      "_dom_classes": [],
      "_model_module": "@jupyter-widgets/controls",
      "_model_module_version": "1.5.0",
      "_model_name": "HTMLModel",
      "_view_count": null,
      "_view_module": "@jupyter-widgets/controls",
      "_view_module_version": "1.5.0",
      "_view_name": "HTMLView",
      "description": "",
      "description_tooltip": null,
      "layout": "IPY_MODEL_110b54082e8f46b7ac90247146e40d33",
      "placeholder": "​",
      "style": "IPY_MODEL_6feda19c62d7405fa1525cb7f87a41c3",
      "value": "Loading dataset from disk: 100%"
     }
    },
    "e66d4488dc514363a46a8ed0c87cc7b4": {
     "model_module": "@jupyter-widgets/base",
     "model_module_version": "1.2.0",
     "model_name": "LayoutModel",
     "state": {
      "_model_module": "@jupyter-widgets/base",
      "_model_module_version": "1.2.0",
      "_model_name": "LayoutModel",
      "_view_count": null,
      "_view_module": "@jupyter-widgets/base",
      "_view_module_version": "1.2.0",
      "_view_name": "LayoutView",
      "align_content": null,
      "align_items": null,
      "align_self": null,
      "border": null,
      "bottom": null,
      "display": null,
      "flex": null,
      "flex_flow": null,
      "grid_area": null,
      "grid_auto_columns": null,
      "grid_auto_flow": null,
      "grid_auto_rows": null,
      "grid_column": null,
      "grid_gap": null,
      "grid_row": null,
      "grid_template_areas": null,
      "grid_template_columns": null,
      "grid_template_rows": null,
      "height": null,
      "justify_content": null,
      "justify_items": null,
      "left": null,
      "margin": null,
      "max_height": null,
      "max_width": null,
      "min_height": null,
      "min_width": null,
      "object_fit": null,
      "object_position": null,
      "order": null,
      "overflow": null,
      "overflow_x": null,
      "overflow_y": null,
      "padding": null,
      "right": null,
      "top": null,
      "visibility": null,
      "width": null
     }
    },
    "e996326846754bb7a571647de3e37ded": {
     "model_module": "@jupyter-widgets/controls",
     "model_module_version": "1.5.0",
     "model_name": "ProgressStyleModel",
     "state": {
      "_model_module": "@jupyter-widgets/controls",
      "_model_module_version": "1.5.0",
      "_model_name": "ProgressStyleModel",
      "_view_count": null,
      "_view_module": "@jupyter-widgets/base",
      "_view_module_version": "1.2.0",
      "_view_name": "StyleView",
      "bar_color": null,
      "description_width": ""
     }
    }
   }
  }
 },
 "nbformat": 4,
 "nbformat_minor": 0
}
