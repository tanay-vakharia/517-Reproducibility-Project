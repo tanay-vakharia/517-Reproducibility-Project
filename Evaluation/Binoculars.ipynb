{
 "cells": [
  {
   "cell_type": "markdown",
   "metadata": {
    "id": "hjlBxK1_JYdG"
   },
   "source": []
  },
  {
   "cell_type": "markdown",
   "metadata": {
    "id": "563vuTE_a8Ap"
   },
   "source": [
    "https://github.com/ahans30/Binoculars"
   ]
  },
  {
   "cell_type": "code",
   "execution_count": null,
   "metadata": {
    "colab": {
     "base_uri": "https://localhost:8080/"
    },
    "collapsed": true,
    "executionInfo": {
     "elapsed": 21114,
     "status": "ok",
     "timestamp": 1741897005264,
     "user": {
      "displayName": "Tanay Vakharia",
      "userId": "01737987164769102172"
     },
     "user_tz": 420
    },
    "id": "c9PIzsmta89E",
    "outputId": "84ab6775-bc4c-456a-c8f2-29673ce81cc6"
   },
   "outputs": [],
   "source": [
    "!git clone https://github.com/ahans30/Binoculars.git\n",
    "%cd Binoculars\n",
    "!pip install -e .\n",
    "!pip install datasets"
   ]
  },
  {
   "cell_type": "code",
   "execution_count": null,
   "metadata": {
    "colab": {
     "base_uri": "https://localhost:8080/",
     "height": 424,
     "referenced_widgets": [
      "cad30fd0f9c34aab90b4402377cb0458",
      "b37ca275d935407794b9760090dc2a6b",
      "467586236648472c896476833014c34b",
      "1db4e02cb6894341853a8a543bb66f05",
      "23441a7de32d4f09b8fd8a7dcef87562",
      "16a98a2dd8944937a727616959c7fecc",
      "bd96632a838c43b5af6cd40a3cbbefaf",
      "c209ff3f4cca497d91ce86c966eaf331",
      "f2cd70cfc7114837a5dde440ba5acd41",
      "57c80c3d41c141228f16881ec360727c",
      "9d2358b6f42d4b758851fef8413e07a8",
      "1b7218d411da44d8b6266b67396182ab",
      "7b288177f1ae412ea9bf62934d4dad6b",
      "36e3ccf116074816b36dc214896d8c66",
      "c095ac0256f44513a52181192b252ffa",
      "83de1f3dddbc4b9e9c2ce7d62ce778ba",
      "2a0696cc2c5e464287c2ac02da906a94",
      "aaf039b1f715457db2936149979d0f71",
      "1590b04c96a54e47ba3d320ef67b4303",
      "3abac8698ddc4b54a94243c3b0d31f45",
      "e2dec70602994760b2471729657b207b",
      "3b1fc4a7abd54b3aa5977fcf689d265c"
     ]
    },
    "collapsed": true,
    "executionInfo": {
     "elapsed": 94439,
     "status": "ok",
     "timestamp": 1741897109295,
     "user": {
      "displayName": "Tanay Vakharia",
      "userId": "01737987164769102172"
     },
     "user_tz": 420
    },
    "id": "aC5fT-46cj4h",
    "outputId": "2ac4349f-fd8e-4556-c888-714d351d7cd4"
   },
   "outputs": [],
   "source": [
    "from binoculars import Binoculars\n",
    "\n",
    "bino = Binoculars()\n",
    "\n",
    "# ChatGPT (GPT-4) output when prompted with “Can you write a few sentences about a capybara that is an astrophysicist?\"\n",
    "sample_string = '''Dr. Capy Cosmos, a capybara unlike any other, astounded the scientific community with his\n",
    "groundbreaking research in astrophysics. With his keen sense of observation and unparalleled ability to interpret\n",
    "cosmic data, he uncovered new insights into the mysteries of black holes and the origins of the universe. As he\n",
    "peered through telescopes with his large, round eyes, fellow researchers often remarked that it seemed as if the\n",
    "stars themselves whispered their secrets directly to him. Dr. Cosmos not only became a beacon of inspiration to\n",
    "aspiring scientists but also proved that intellect and innovation can be found in the most unexpected of creatures.'''\n",
    "\n",
    "print(bino.compute_score(sample_string))  # 0.75661373\n",
    "print(bino.predict(sample_string))  # 'Most likely AI-Generated'"
   ]
  },
  {
   "cell_type": "code",
   "execution_count": null,
   "metadata": {
    "colab": {
     "base_uri": "https://localhost:8080/"
    },
    "executionInfo": {
     "elapsed": 493,
     "status": "ok",
     "timestamp": 1741897124137,
     "user": {
      "displayName": "Tanay Vakharia",
      "userId": "01737987164769102172"
     },
     "user_tz": 420
    },
    "id": "9V5fRjxgt_fm",
    "outputId": "e260578e-cef4-4828-ad67-12d6ee57b97c"
   },
   "outputs": [],
   "source": [
    "temp = \"ok is this working\"\n",
    "print(bino.compute_score(temp))  # 1.1117020845413208\n",
    "print(bino.predict(temp))  # Most likely human-generated"
   ]
  },
  {
   "cell_type": "code",
   "execution_count": null,
   "metadata": {
    "id": "rUulAx0dz5jH"
   },
   "outputs": [],
   "source": [
    "import os\n",
    "from datasets import load_dataset, load_from_disk\n",
    "\n",
    "SAVE_PATH = '/content/data/wiki_dataset'\n",
    "\n",
    "def get_wikipedia_dataset():\n",
    "    # Check if dataset already exists on disk\n",
    "    if os.path.exists(SAVE_PATH):\n",
    "        print(\"Loading dataset from disk...\")\n",
    "        dataset = load_from_disk(SAVE_PATH)\n",
    "    else:\n",
    "        print(\"Dataset not found on disk. Downloading from Hugging Face...\")\n",
    "        # Create directory if it doesn't exist\n",
    "        os.makedirs('/content/data', exist_ok=True)\n",
    "\n",
    "        # Download and load the dataset\n",
    "        dataset = load_dataset(\"wikipedia\", \"20220301.en\")\n",
    "\n",
    "        # Save to disk\n",
    "        print(\"Saving dataset to disk...\")\n",
    "        dataset.save_to_disk(SAVE_PATH)\n",
    "\n",
    "    print(\"Dataset is ready!\")\n",
    "    return dataset"
   ]
  },
  {
   "cell_type": "code",
   "execution_count": null,
   "metadata": {
    "colab": {
     "base_uri": "https://localhost:8080/",
     "height": 83,
     "referenced_widgets": [
      "eab1247782c94d4f8e208c2231659458",
      "a29896be91194bd68af97f156db28ace",
      "58db6223d6544afb84116034142c1a88",
      "f146dde788db419bb09664571f2daf87",
      "f5e7c0186f0349ea99b3796786f6d93b",
      "c97e1ed1c4024cdf8a9dcb9be23538ee",
      "05fc38a3f229463f9e42c0485dc649ec",
      "d9cd1e8c1afe43a7a1daa88f4bf3e3c9",
      "6353a5b391d149c0a54e660dc3a457a8",
      "6fb60ba21c5c4f31a8f2697a66698051",
      "80915be8bb99412c8800fb523410c597"
     ]
    },
    "collapsed": true,
    "executionInfo": {
     "elapsed": 6136,
     "status": "ok",
     "timestamp": 1741739686081,
     "user": {
      "displayName": "Tanay Vakharia",
      "userId": "01737987164769102172"
     },
     "user_tz": 420
    },
    "id": "7B6Inxqu0BXo",
    "outputId": "51cb607f-5caf-42ef-ade8-797dac5242f7"
   },
   "outputs": [],
   "source": [
    "legacy_dataset = get_wikipedia_dataset()\n"
   ]
  },
  {
   "cell_type": "code",
   "execution_count": null,
   "metadata": {
    "colab": {
     "base_uri": "https://localhost:8080/"
    },
    "executionInfo": {
     "elapsed": 369,
     "status": "ok",
     "timestamp": 1741739688289,
     "user": {
      "displayName": "Tanay Vakharia",
      "userId": "01737987164769102172"
     },
     "user_tz": 420
    },
    "id": "iwmuLPwaMFcO",
    "outputId": "a2a80086-1ac7-477d-8839-b62eceea5c5f"
   },
   "outputs": [],
   "source": [
    "import json\n",
    "from datasets import Dataset, DatasetDict\n",
    "\n",
    "with open(\"/content/scraped_wiki_articles_2_2025.json\", \"r\", encoding=\"utf-8\") as file:\n",
    "    data = json.load(file)\n",
    "\n",
    "for entry in data:\n",
    "    entry[\"text\"] = entry.pop(\"content\")\n",
    "\n",
    "dataset = Dataset.from_list(data)\n",
    "\n",
    "new_articles_dataset = DatasetDict({\"train\": dataset})\n",
    "\n",
    "print(new_articles_dataset)\n",
    "print(legacy_dataset)\n"
   ]
  },
  {
   "cell_type": "code",
   "execution_count": null,
   "metadata": {
    "colab": {
     "base_uri": "https://localhost:8080/"
    },
    "executionInfo": {
     "elapsed": 147,
     "status": "ok",
     "timestamp": 1741739772057,
     "user": {
      "displayName": "Tanay Vakharia",
      "userId": "01737987164769102172"
     },
     "user_tz": 420
    },
    "id": "TsaV3l87xpzF",
    "outputId": "a262f48d-5158-4e44-b5d4-6130a539b31a"
   },
   "outputs": [],
   "source": [
    "with open(\"/content/scraped_wiki_articles_8_2023.json\", \"r\", encoding=\"utf-8\") as file:\n",
    "    data = json.load(file)\n",
    "\n",
    "for entry in data:\n",
    "    entry[\"text\"] = entry.pop(\"content\")\n",
    "\n",
    "dataset = Dataset.from_list(data)\n",
    "\n",
    "august_2023_dataset = DatasetDict({\"train\": dataset})\n",
    "print(august_2023_dataset)"
   ]
  },
  {
   "cell_type": "code",
   "execution_count": 9,
   "metadata": {
    "executionInfo": {
     "elapsed": 207,
     "status": "ok",
     "timestamp": 1741897235362,
     "user": {
      "displayName": "Tanay Vakharia",
      "userId": "01737987164769102172"
     },
     "user_tz": 420
    },
    "id": "6rBprWPu1PsL"
   },
   "outputs": [],
   "source": [
    "import json\n",
    "import re\n",
    "\n",
    "all_scores = []\n",
    "non_ai = 0\n",
    "ai = 0\n",
    "def ai_score(lines, truncate_to=5000):\n",
    "    print(f\"number of lines: {len(lines)}\")\n",
    "    global non_ai, ai\n",
    "    scores = []\n",
    "    for ind, line in enumerate(lines):\n",
    "        print(len(line))\n",
    "        score = bino.compute_score(' '.join(line.strip().split()[:truncate_to]))\n",
    "        print(score, ind)\n",
    "        scores.append((score, ind))\n",
    "\n",
    "        prediction = bino.predict(' '.join(line.strip().split()[:truncate_to]))\n",
    "        print(prediction)\n",
    "        if \"AI\" in prediction:\n",
    "            ai += 1\n",
    "        else:\n",
    "            non_ai += 1\n",
    "\n",
    "    return scores\n",
    "\n",
    "def clean_text(text):\n",
    "    # Replace all newlines with a unique string\n",
    "    text = text.replace('\\n', '!@#').replace('\\t', ' ')\n",
    "    # Split the text by the unique string\n",
    "    split_text = text.split('!@#')\n",
    "    # Remove elements with 5 or fewer words\n",
    "    split_text = [segment for segment in split_text if len(segment.split()) > 5]\n",
    "    # Rejoin the text\n",
    "    text = ' '.join(split_text)\n",
    "    # Remove \"References\" and \"External links\" sections\n",
    "    text = re.sub(r'== References ==.*|== External links ==.*', '', text, flags=re.DOTALL)\n",
    "\n",
    "    return text.strip()\n",
    "\n",
    "def extract_title_text_and_url_legacy(dataset):\n",
    "    titles, texts, urls = [], [], []\n",
    "\n",
    "    for i in range(850):\n",
    "\n",
    "      # common crawl has empty title and url\n",
    "      title = dataset[\"train\"][i][\"title\"]\n",
    "      content = dataset[\"train\"][i][\"text\"]\n",
    "      url = dataset[\"train\"][i][\"url\"]\n",
    "      cleaned_text = clean_text(content)\n",
    "\n",
    "      if title and cleaned_text:\n",
    "          titles.append(title)\n",
    "          texts.append(cleaned_text)\n",
    "          urls.append(url)\n",
    "\n",
    "    return titles, texts, urls\n",
    "\n",
    "def process_files(dataset):\n",
    "    titles, texts, urls = extract_title_text_and_url_legacy(dataset)\n",
    "    texts = [' '.join(text.strip().split()[:400]) for text in texts]\n",
    "    # final_texts, final_titles, final_urls = [],[],[]\n",
    "    # for ind, text in enumerate(texts):\n",
    "    #     if len(text.split()) >= 100:\n",
    "    #         final_texts.append(texts[ind])\n",
    "    #         final_titles.append(titles[ind])\n",
    "    #         final_urls.append(urls[ind])\n",
    "\n",
    "    print(f\"number of texts: {len(texts)}\")\n",
    "\n",
    "    bino_scores = ai_score(texts)\n",
    "    all_scores.append(bino_scores)\n",
    "\n",
    "    # with open(output_file, 'w', encoding='utf-8') as outfile:\n",
    "    #     for title, score, url, text in zip(final_titles, bino_scores, final_urls, final_texts):\n",
    "    #         outfile.write(f\"{title}, {score[0]}\\n\")\n"
   ]
  },
  {
   "cell_type": "code",
   "execution_count": null,
   "metadata": {
    "id": "5n0cFRll11Ft"
   },
   "outputs": [],
   "source": [
    "output_file = \"/content/legacy_wikipedia.json\"\n",
    "input_file = \"\""
   ]
  },
  {
   "cell_type": "markdown",
   "metadata": {
    "id": "BEU308dIN8jN"
   },
   "source": [
    "**Legacy Articles**"
   ]
  },
  {
   "cell_type": "code",
   "execution_count": null,
   "metadata": {
    "colab": {
     "base_uri": "https://localhost:8080/"
    },
    "collapsed": true,
    "executionInfo": {
     "elapsed": 1402315,
     "status": "ok",
     "timestamp": 1741481833191,
     "user": {
      "displayName": "Tanay Vakharia",
      "userId": "01737987164769102172"
     },
     "user_tz": 480
    },
    "id": "oHZAfZ683I3i",
    "outputId": "b16be5e3-aeaf-4819-a5d0-89246f0ff22a"
   },
   "outputs": [],
   "source": [
    "process_files(legacy_dataset)"
   ]
  },
  {
   "cell_type": "code",
   "execution_count": null,
   "metadata": {
    "colab": {
     "base_uri": "https://localhost:8080/"
    },
    "executionInfo": {
     "elapsed": 167,
     "status": "ok",
     "timestamp": 1741481859289,
     "user": {
      "displayName": "Tanay Vakharia",
      "userId": "01737987164769102172"
     },
     "user_tz": 480
    },
    "id": "EZnnvB5E2Za0",
    "outputId": "17e3de95-1c42-4dda-cbcc-666fb6b159a1"
   },
   "outputs": [],
   "source": [
    "print(all_scores)\n",
    "print(ai)\n",
    "print(non_ai)"
   ]
  },
  {
   "cell_type": "code",
   "execution_count": null,
   "metadata": {
    "colab": {
     "base_uri": "https://localhost:8080/"
    },
    "collapsed": true,
    "executionInfo": {
     "elapsed": 144,
     "status": "ok",
     "timestamp": 1741481916947,
     "user": {
      "displayName": "Tanay Vakharia",
      "userId": "01737987164769102172"
     },
     "user_tz": 480
    },
    "id": "D2xwiQY99a1b",
    "outputId": "0b455870-dcc2-4e9c-c5b5-631ae38c7936"
   },
   "outputs": [],
   "source": [
    "import numpy as np\n",
    "\n",
    "score_nums = []\n",
    "\n",
    "for score, _ in all_scores[0]:\n",
    "  # print(score)\n",
    "  score_nums.append(score)\n",
    "\n",
    "mean = np.mean(score_nums)\n",
    "median = np.median(score_nums)\n",
    "std = np.std(score_nums)\n",
    "\n",
    "print(f\"Mean: {mean}\")\n",
    "print(f\"Median: {median}\")\n",
    "print(f\"Std dev: {std}\")\n",
    "\n",
    "\n"
   ]
  },
  {
   "cell_type": "markdown",
   "metadata": {
    "id": "M0wSoeNBODYY"
   },
   "source": [
    "**New Articles**"
   ]
  },
  {
   "cell_type": "code",
   "execution_count": null,
   "metadata": {
    "colab": {
     "base_uri": "https://localhost:8080/"
    },
    "collapsed": true,
    "executionInfo": {
     "elapsed": 871912,
     "status": "ok",
     "timestamp": 1741482932952,
     "user": {
      "displayName": "Tanay Vakharia",
      "userId": "01737987164769102172"
     },
     "user_tz": 480
    },
    "id": "1GnzvkSjKwfs",
    "outputId": "87d85f43-4e32-4ce8-b072-d1b8224f21a6"
   },
   "outputs": [],
   "source": [
    "process_files(new_articles_dataset)\n",
    "print(all_scores)\n",
    "print(ai)\n",
    "print(non_ai)"
   ]
  },
  {
   "cell_type": "code",
   "execution_count": null,
   "metadata": {
    "colab": {
     "base_uri": "https://localhost:8080/"
    },
    "executionInfo": {
     "elapsed": 153,
     "status": "ok",
     "timestamp": 1741483035226,
     "user": {
      "displayName": "Tanay Vakharia",
      "userId": "01737987164769102172"
     },
     "user_tz": 480
    },
    "id": "Li7nT1WGeh1F",
    "outputId": "eb39aeb3-d67f-42a7-f3e1-27097b7c53f7"
   },
   "outputs": [],
   "source": [
    "score_nums = []\n",
    "\n",
    "for score, _ in all_scores[0]:\n",
    "  # print(score)\n",
    "  score_nums.append(score)\n",
    "\n",
    "mean = np.mean(score_nums)\n",
    "median = np.median(score_nums)\n",
    "std = np.std(score_nums)\n",
    "\n",
    "print(f\"Mean: {mean}\")\n",
    "print(f\"Median: {median}\")\n",
    "print(f\"Std dev: {std}\")"
   ]
  },
  {
   "cell_type": "markdown",
   "metadata": {
    "id": "7bQrfJ81yKtB"
   },
   "source": [
    "August 2023 Articles"
   ]
  },
  {
   "cell_type": "code",
   "execution_count": null,
   "metadata": {
    "colab": {
     "base_uri": "https://localhost:8080/"
    },
    "collapsed": true,
    "executionInfo": {
     "elapsed": 816455,
     "status": "ok",
     "timestamp": 1741740709038,
     "user": {
      "displayName": "Tanay Vakharia",
      "userId": "01737987164769102172"
     },
     "user_tz": 420
    },
    "id": "Wxufj4OPyNpV",
    "outputId": "059a109f-1ca6-44f8-d52e-08d09e087e24"
   },
   "outputs": [],
   "source": [
    "process_files(august_2023_dataset)"
   ]
  },
  {
   "cell_type": "code",
   "execution_count": null,
   "metadata": {
    "colab": {
     "base_uri": "https://localhost:8080/"
    },
    "executionInfo": {
     "elapsed": 253,
     "status": "ok",
     "timestamp": 1741740738997,
     "user": {
      "displayName": "Tanay Vakharia",
      "userId": "01737987164769102172"
     },
     "user_tz": 420
    },
    "id": "m0OBmzyGyQWe",
    "outputId": "ca51623a-5d7f-4654-8159-3497e0f970a8"
   },
   "outputs": [],
   "source": [
    "print(all_scores)\n",
    "print(ai)\n",
    "print(non_ai)"
   ]
  },
  {
   "cell_type": "markdown",
   "metadata": {
    "id": "WCI7HJ74KScI"
   },
   "source": [
    "August 2024 Articles"
   ]
  },
  {
   "cell_type": "code",
   "execution_count": null,
   "metadata": {
    "colab": {
     "base_uri": "https://localhost:8080/"
    },
    "executionInfo": {
     "elapsed": 863,
     "status": "ok",
     "timestamp": 1741897196263,
     "user": {
      "displayName": "Tanay Vakharia",
      "userId": "01737987164769102172"
     },
     "user_tz": 420
    },
    "id": "zNNSIIP3KUqU",
    "outputId": "15168c42-d5af-49aa-e8c4-6bf4f5fb570b"
   },
   "outputs": [],
   "source": [
    "import json\n",
    "from datasets import Dataset, DatasetDict\n",
    "\n",
    "with open(\"/content/scraped_wiki_articles_8_2024.json\", \"r\", encoding=\"utf-8\") as file:\n",
    "    data = json.load(file)\n",
    "\n",
    "for entry in data:\n",
    "    entry[\"text\"] = entry.pop(\"content\")\n",
    "\n",
    "dataset = Dataset.from_list(data)\n",
    "\n",
    "august_2024_dataset = DatasetDict({\"train\": dataset})\n",
    "print(august_2024_dataset)"
   ]
  },
  {
   "cell_type": "code",
   "execution_count": null,
   "metadata": {
    "colab": {
     "base_uri": "https://localhost:8080/"
    },
    "collapsed": true,
    "executionInfo": {
     "elapsed": 644285,
     "status": "ok",
     "timestamp": 1741897887596,
     "user": {
      "displayName": "Tanay Vakharia",
      "userId": "01737987164769102172"
     },
     "user_tz": 420
    },
    "id": "uq0OQGGEKf7s",
    "outputId": "60ce1df0-f2a5-4ad2-b537-9f4f36e55a49"
   },
   "outputs": [],
   "source": [
    "process_files(august_2024_dataset)"
   ]
  },
  {
   "cell_type": "code",
   "execution_count": null,
   "metadata": {
    "colab": {
     "base_uri": "https://localhost:8080/"
    },
    "executionInfo": {
     "elapsed": 138,
     "status": "ok",
     "timestamp": 1741897896228,
     "user": {
      "displayName": "Tanay Vakharia",
      "userId": "01737987164769102172"
     },
     "user_tz": 420
    },
    "id": "MK9A3nNDKhvk",
    "outputId": "b26ddf50-a6ce-479f-88cd-cf5cf2258a1f"
   },
   "outputs": [],
   "source": [
    "print(all_scores)\n",
    "print(ai)\n",
    "print(non_ai)"
   ]
  },
  {
   "cell_type": "markdown",
   "metadata": {
    "id": "L_em8vygVSWE"
   },
   "source": [
    "Common Crawl May 2022"
   ]
  },
  {
   "cell_type": "code",
   "execution_count": null,
   "metadata": {
    "colab": {
     "base_uri": "https://localhost:8080/"
    },
    "executionInfo": {
     "elapsed": 538,
     "status": "ok",
     "timestamp": 1741833402220,
     "user": {
      "displayName": "Tanay Vakharia",
      "userId": "01737987164769102172"
     },
     "user_tz": 420
    },
    "id": "TI_mK-mCVUak",
    "outputId": "fd928e48-db92-47bb-c0ae-f9d0418acfb2"
   },
   "outputs": [],
   "source": [
    "import json\n",
    "from datasets import Dataset, DatasetDict\n",
    "\n",
    "with open(\"/content/CC-MAIN-2022-05.json\", \"r\", encoding=\"utf-8\") as file:\n",
    "    data = json.load(file)\n",
    "\n",
    "sites_data = [{\"text\": site.pop(\"text\"), \"title\": \"temp\", \"url\": \"\"} for site in data[\"sites\"]]\n",
    "\n",
    "dataset = Dataset.from_list(sites_data)\n",
    "\n",
    "cc_2022_dict = DatasetDict({\"train\": dataset})\n",
    "\n",
    "print(cc_2022_dict)"
   ]
  },
  {
   "cell_type": "code",
   "execution_count": null,
   "metadata": {
    "colab": {
     "base_uri": "https://localhost:8080/"
    },
    "collapsed": true,
    "executionInfo": {
     "elapsed": 824048,
     "status": "ok",
     "timestamp": 1741834230025,
     "user": {
      "displayName": "Tanay Vakharia",
      "userId": "01737987164769102172"
     },
     "user_tz": 420
    },
    "id": "MWEoAcieVjvz",
    "outputId": "bf3d807e-5779-40ba-b5a8-7c5a750fffdd"
   },
   "outputs": [],
   "source": [
    "process_files(cc_2022_dict)"
   ]
  },
  {
   "cell_type": "code",
   "execution_count": null,
   "metadata": {
    "colab": {
     "base_uri": "https://localhost:8080/"
    },
    "executionInfo": {
     "elapsed": 238,
     "status": "ok",
     "timestamp": 1741834382584,
     "user": {
      "displayName": "Tanay Vakharia",
      "userId": "01737987164769102172"
     },
     "user_tz": 420
    },
    "id": "HYL4pov1a2Xg",
    "outputId": "136c453f-a959-482f-d394-2ba9984c3359"
   },
   "outputs": [],
   "source": [
    "print(all_scores)\n",
    "print(ai)\n",
    "print(non_ai)"
   ]
  },
  {
   "cell_type": "markdown",
   "metadata": {
    "id": "lAQhudcga94h"
   },
   "source": [
    "Common Crawl March 2023"
   ]
  },
  {
   "cell_type": "code",
   "execution_count": null,
   "metadata": {
    "colab": {
     "base_uri": "https://localhost:8080/"
    },
    "executionInfo": {
     "elapsed": 335,
     "status": "ok",
     "timestamp": 1741834470546,
     "user": {
      "displayName": "Tanay Vakharia",
      "userId": "01737987164769102172"
     },
     "user_tz": 420
    },
    "id": "FIM6o1tobFKH",
    "outputId": "6741f446-022f-41d8-c913-e560f2176848"
   },
   "outputs": [],
   "source": [
    "import json\n",
    "from datasets import Dataset, DatasetDict\n",
    "\n",
    "with open(\"/content/CC-MAIN-2023-40.json\", \"r\", encoding=\"utf-8\") as file:\n",
    "    data = json.load(file)\n",
    "\n",
    "sites_data = [{\"text\": site.pop(\"text\"), \"title\": \"temp\", \"url\": \"\"} for site in data[\"sites\"]]\n",
    "\n",
    "dataset = Dataset.from_list(sites_data)\n",
    "\n",
    "cc_2023_dict = DatasetDict({\"train\": dataset})\n",
    "\n",
    "print(cc_2023_dict)"
   ]
  },
  {
   "cell_type": "code",
   "execution_count": null,
   "metadata": {
    "colab": {
     "base_uri": "https://localhost:8080/"
    },
    "collapsed": true,
    "executionInfo": {
     "elapsed": 796356,
     "status": "ok",
     "timestamp": 1741835309406,
     "user": {
      "displayName": "Tanay Vakharia",
      "userId": "01737987164769102172"
     },
     "user_tz": 420
    },
    "id": "93tThrn9bUl1",
    "outputId": "726fdd4d-b639-4dd0-c78a-69f654649383"
   },
   "outputs": [],
   "source": [
    "process_files(cc_2023_dict)"
   ]
  },
  {
   "cell_type": "code",
   "execution_count": null,
   "metadata": {
    "colab": {
     "base_uri": "https://localhost:8080/"
    },
    "executionInfo": {
     "elapsed": 163,
     "status": "ok",
     "timestamp": 1741836045124,
     "user": {
      "displayName": "Tanay Vakharia",
      "userId": "01737987164769102172"
     },
     "user_tz": 420
    },
    "id": "dN7nGM-HhMHt",
    "outputId": "f8d08b47-d577-4e03-f753-35326d628cdc"
   },
   "outputs": [],
   "source": [
    "print(all_scores)\n",
    "print(ai)\n",
    "print(non_ai)"
   ]
  },
  {
   "cell_type": "markdown",
   "metadata": {
    "id": "WmbIXAXDhOqC"
   },
   "source": [
    "Common Crawl March 2024"
   ]
  },
  {
   "cell_type": "code",
   "execution_count": null,
   "metadata": {
    "colab": {
     "base_uri": "https://localhost:8080/"
    },
    "executionInfo": {
     "elapsed": 568,
     "status": "ok",
     "timestamp": 1741836087173,
     "user": {
      "displayName": "Tanay Vakharia",
      "userId": "01737987164769102172"
     },
     "user_tz": 420
    },
    "id": "DTd2kvb4hS9p",
    "outputId": "9f1357d2-c704-4e58-8d1b-82dc0a6826df"
   },
   "outputs": [],
   "source": [
    "import json\n",
    "from datasets import Dataset, DatasetDict\n",
    "\n",
    "with open(\"/content/CC-MAIN-2024-33.json\", \"r\", encoding=\"utf-8\") as file:\n",
    "    data = json.load(file)\n",
    "\n",
    "sites_data = [{\"text\": site.pop(\"text\"), \"title\": \"temp\", \"url\": \"\"} for site in data[\"sites\"]]\n",
    "\n",
    "dataset = Dataset.from_list(sites_data)\n",
    "\n",
    "cc_2024_dict = DatasetDict({\"train\": dataset})\n",
    "\n",
    "print(cc_2024_dict)"
   ]
  },
  {
   "cell_type": "code",
   "execution_count": null,
   "metadata": {
    "colab": {
     "base_uri": "https://localhost:8080/"
    },
    "collapsed": true,
    "executionInfo": {
     "elapsed": 742296,
     "status": "ok",
     "timestamp": 1741837812764,
     "user": {
      "displayName": "Tanay Vakharia",
      "userId": "01737987164769102172"
     },
     "user_tz": 420
    },
    "id": "zYli6uh-hXsk",
    "outputId": "d112a59b-0031-4e1b-959f-fd8fdd4f5910"
   },
   "outputs": [],
   "source": [
    "process_files(cc_2024_dict)"
   ]
  },
  {
   "cell_type": "code",
   "execution_count": null,
   "metadata": {
    "colab": {
     "base_uri": "https://localhost:8080/"
    },
    "executionInfo": {
     "elapsed": 234,
     "status": "ok",
     "timestamp": 1741837996809,
     "user": {
      "displayName": "Tanay Vakharia",
      "userId": "01737987164769102172"
     },
     "user_tz": 420
    },
    "id": "NPXM7NKglBNb",
    "outputId": "b7666db4-a47a-4196-9079-3b874e92df91"
   },
   "outputs": [],
   "source": [
    "print(all_scores)\n",
    "print(ai)\n",
    "print(non_ai)"
   ]
  },
  {
   "cell_type": "markdown",
   "metadata": {
    "id": "gRZJptlyovAn"
   },
   "source": [
    "Common Crawl 2025"
   ]
  },
  {
   "cell_type": "code",
   "execution_count": null,
   "metadata": {
    "colab": {
     "base_uri": "https://localhost:8080/"
    },
    "executionInfo": {
     "elapsed": 358,
     "status": "ok",
     "timestamp": 1741838050775,
     "user": {
      "displayName": "Tanay Vakharia",
      "userId": "01737987164769102172"
     },
     "user_tz": 420
    },
    "id": "NtA4UNw5oxwn",
    "outputId": "96668744-366c-4205-c6c7-12dbe24bc3e1"
   },
   "outputs": [],
   "source": [
    "import json\n",
    "from datasets import Dataset, DatasetDict\n",
    "\n",
    "with open(\"/content/CC-MAIN-2025-08.json\", \"r\", encoding=\"utf-8\") as file:\n",
    "    data = json.load(file)\n",
    "\n",
    "sites_data = [{\"text\": site.pop(\"text\"), \"title\": \"temp\", \"url\": \"\"} for site in data[\"sites\"]]\n",
    "\n",
    "dataset = Dataset.from_list(sites_data)\n",
    "\n",
    "cc_2025_dict = DatasetDict({\"train\": dataset})\n",
    "\n",
    "print(cc_2025_dict)"
   ]
  },
  {
   "cell_type": "code",
   "execution_count": null,
   "metadata": {
    "colab": {
     "base_uri": "https://localhost:8080/"
    },
    "collapsed": true,
    "executionInfo": {
     "elapsed": 752280,
     "status": "ok",
     "timestamp": 1741838817849,
     "user": {
      "displayName": "Tanay Vakharia",
      "userId": "01737987164769102172"
     },
     "user_tz": 420
    },
    "id": "MuoAWFtao4kg",
    "outputId": "46674a53-cce6-437a-d328-20273e43fd6e"
   },
   "outputs": [],
   "source": [
    "process_files(cc_2025_dict)"
   ]
  },
  {
   "cell_type": "code",
   "execution_count": null,
   "metadata": {
    "colab": {
     "base_uri": "https://localhost:8080/"
    },
    "executionInfo": {
     "elapsed": 149,
     "status": "ok",
     "timestamp": 1741838876107,
     "user": {
      "displayName": "Tanay Vakharia",
      "userId": "01737987164769102172"
     },
     "user_tz": 420
    },
    "id": "EDFVoUkmo3AB",
    "outputId": "6c062858-b9dc-4c33-d2af-e91e1faae872"
   },
   "outputs": [],
   "source": [
    "print(all_scores)\n",
    "print(ai)\n",
    "print(non_ai)"
   ]
  }
 ],
 "metadata": {
  "colab": {
   "provenance": []
  },
  "kernelspec": {
   "display_name": "Python 3",
   "name": "python3"
  },
  "language_info": {
   "name": "python"
  },
  "widgets": {
   "application/vnd.jupyter.widget-state+json": {
    "05fc38a3f229463f9e42c0485dc649ec": {
     "model_module": "@jupyter-widgets/controls",
     "model_module_version": "1.5.0",
     "model_name": "DescriptionStyleModel",
     "state": {
      "_model_module": "@jupyter-widgets/controls",
      "_model_module_version": "1.5.0",
      "_model_name": "DescriptionStyleModel",
      "_view_count": null,
      "_view_module": "@jupyter-widgets/base",
      "_view_module_version": "1.2.0",
      "_view_name": "StyleView",
      "description_width": ""
     }
    },
    "1590b04c96a54e47ba3d320ef67b4303": {
     "model_module": "@jupyter-widgets/base",
     "model_module_version": "1.2.0",
     "model_name": "LayoutModel",
     "state": {
      "_model_module": "@jupyter-widgets/base",
      "_model_module_version": "1.2.0",
      "_model_name": "LayoutModel",
      "_view_count": null,
      "_view_module": "@jupyter-widgets/base",
      "_view_module_version": "1.2.0",
      "_view_name": "LayoutView",
      "align_content": null,
      "align_items": null,
      "align_self": null,
      "border": null,
      "bottom": null,
      "display": null,
      "flex": null,
      "flex_flow": null,
      "grid_area": null,
      "grid_auto_columns": null,
      "grid_auto_flow": null,
      "grid_auto_rows": null,
      "grid_column": null,
      "grid_gap": null,
      "grid_row": null,
      "grid_template_areas": null,
      "grid_template_columns": null,
      "grid_template_rows": null,
      "height": null,
      "justify_content": null,
      "justify_items": null,
      "left": null,
      "margin": null,
      "max_height": null,
      "max_width": null,
      "min_height": null,
      "min_width": null,
      "object_fit": null,
      "object_position": null,
      "order": null,
      "overflow": null,
      "overflow_x": null,
      "overflow_y": null,
      "padding": null,
      "right": null,
      "top": null,
      "visibility": null,
      "width": null
     }
    },
    "16a98a2dd8944937a727616959c7fecc": {
     "model_module": "@jupyter-widgets/base",
     "model_module_version": "1.2.0",
     "model_name": "LayoutModel",
     "state": {
      "_model_module": "@jupyter-widgets/base",
      "_model_module_version": "1.2.0",
      "_model_name": "LayoutModel",
      "_view_count": null,
      "_view_module": "@jupyter-widgets/base",
      "_view_module_version": "1.2.0",
      "_view_name": "LayoutView",
      "align_content": null,
      "align_items": null,
      "align_self": null,
      "border": null,
      "bottom": null,
      "display": null,
      "flex": null,
      "flex_flow": null,
      "grid_area": null,
      "grid_auto_columns": null,
      "grid_auto_flow": null,
      "grid_auto_rows": null,
      "grid_column": null,
      "grid_gap": null,
      "grid_row": null,
      "grid_template_areas": null,
      "grid_template_columns": null,
      "grid_template_rows": null,
      "height": null,
      "justify_content": null,
      "justify_items": null,
      "left": null,
      "margin": null,
      "max_height": null,
      "max_width": null,
      "min_height": null,
      "min_width": null,
      "object_fit": null,
      "object_position": null,
      "order": null,
      "overflow": null,
      "overflow_x": null,
      "overflow_y": null,
      "padding": null,
      "right": null,
      "top": null,
      "visibility": null,
      "width": null
     }
    },
    "1b7218d411da44d8b6266b67396182ab": {
     "model_module": "@jupyter-widgets/controls",
     "model_module_version": "1.5.0",
     "model_name": "HBoxModel",
     "state": {
      "_dom_classes": [],
      "_model_module": "@jupyter-widgets/controls",
      "_model_module_version": "1.5.0",
      "_model_name": "HBoxModel",
      "_view_count": null,
      "_view_module": "@jupyter-widgets/controls",
      "_view_module_version": "1.5.0",
      "_view_name": "HBoxView",
      "box_style": "",
      "children": [
       "IPY_MODEL_7b288177f1ae412ea9bf62934d4dad6b",
       "IPY_MODEL_36e3ccf116074816b36dc214896d8c66",
       "IPY_MODEL_c095ac0256f44513a52181192b252ffa"
      ],
      "layout": "IPY_MODEL_83de1f3dddbc4b9e9c2ce7d62ce778ba"
     }
    },
    "1db4e02cb6894341853a8a543bb66f05": {
     "model_module": "@jupyter-widgets/controls",
     "model_module_version": "1.5.0",
     "model_name": "HTMLModel",
     "state": {
      "_dom_classes": [],
      "_model_module": "@jupyter-widgets/controls",
      "_model_module_version": "1.5.0",
      "_model_name": "HTMLModel",
      "_view_count": null,
      "_view_module": "@jupyter-widgets/controls",
      "_view_module_version": "1.5.0",
      "_view_name": "HTMLView",
      "description": "",
      "description_tooltip": null,
      "layout": "IPY_MODEL_57c80c3d41c141228f16881ec360727c",
      "placeholder": "​",
      "style": "IPY_MODEL_9d2358b6f42d4b758851fef8413e07a8",
      "value": " 2/2 [00:41&lt;00:00, 19.48s/it]"
     }
    },
    "23441a7de32d4f09b8fd8a7dcef87562": {
     "model_module": "@jupyter-widgets/base",
     "model_module_version": "1.2.0",
     "model_name": "LayoutModel",
     "state": {
      "_model_module": "@jupyter-widgets/base",
      "_model_module_version": "1.2.0",
      "_model_name": "LayoutModel",
      "_view_count": null,
      "_view_module": "@jupyter-widgets/base",
      "_view_module_version": "1.2.0",
      "_view_name": "LayoutView",
      "align_content": null,
      "align_items": null,
      "align_self": null,
      "border": null,
      "bottom": null,
      "display": null,
      "flex": null,
      "flex_flow": null,
      "grid_area": null,
      "grid_auto_columns": null,
      "grid_auto_flow": null,
      "grid_auto_rows": null,
      "grid_column": null,
      "grid_gap": null,
      "grid_row": null,
      "grid_template_areas": null,
      "grid_template_columns": null,
      "grid_template_rows": null,
      "height": null,
      "justify_content": null,
      "justify_items": null,
      "left": null,
      "margin": null,
      "max_height": null,
      "max_width": null,
      "min_height": null,
      "min_width": null,
      "object_fit": null,
      "object_position": null,
      "order": null,
      "overflow": null,
      "overflow_x": null,
      "overflow_y": null,
      "padding": null,
      "right": null,
      "top": null,
      "visibility": null,
      "width": null
     }
    },
    "2a0696cc2c5e464287c2ac02da906a94": {
     "model_module": "@jupyter-widgets/base",
     "model_module_version": "1.2.0",
     "model_name": "LayoutModel",
     "state": {
      "_model_module": "@jupyter-widgets/base",
      "_model_module_version": "1.2.0",
      "_model_name": "LayoutModel",
      "_view_count": null,
      "_view_module": "@jupyter-widgets/base",
      "_view_module_version": "1.2.0",
      "_view_name": "LayoutView",
      "align_content": null,
      "align_items": null,
      "align_self": null,
      "border": null,
      "bottom": null,
      "display": null,
      "flex": null,
      "flex_flow": null,
      "grid_area": null,
      "grid_auto_columns": null,
      "grid_auto_flow": null,
      "grid_auto_rows": null,
      "grid_column": null,
      "grid_gap": null,
      "grid_row": null,
      "grid_template_areas": null,
      "grid_template_columns": null,
      "grid_template_rows": null,
      "height": null,
      "justify_content": null,
      "justify_items": null,
      "left": null,
      "margin": null,
      "max_height": null,
      "max_width": null,
      "min_height": null,
      "min_width": null,
      "object_fit": null,
      "object_position": null,
      "order": null,
      "overflow": null,
      "overflow_x": null,
      "overflow_y": null,
      "padding": null,
      "right": null,
      "top": null,
      "visibility": null,
      "width": null
     }
    },
    "36e3ccf116074816b36dc214896d8c66": {
     "model_module": "@jupyter-widgets/controls",
     "model_module_version": "1.5.0",
     "model_name": "FloatProgressModel",
     "state": {
      "_dom_classes": [],
      "_model_module": "@jupyter-widgets/controls",
      "_model_module_version": "1.5.0",
      "_model_name": "FloatProgressModel",
      "_view_count": null,
      "_view_module": "@jupyter-widgets/controls",
      "_view_module_version": "1.5.0",
      "_view_name": "ProgressView",
      "bar_style": "success",
      "description": "",
      "description_tooltip": null,
      "layout": "IPY_MODEL_1590b04c96a54e47ba3d320ef67b4303",
      "max": 2,
      "min": 0,
      "orientation": "horizontal",
      "style": "IPY_MODEL_3abac8698ddc4b54a94243c3b0d31f45",
      "value": 2
     }
    },
    "3abac8698ddc4b54a94243c3b0d31f45": {
     "model_module": "@jupyter-widgets/controls",
     "model_module_version": "1.5.0",
     "model_name": "ProgressStyleModel",
     "state": {
      "_model_module": "@jupyter-widgets/controls",
      "_model_module_version": "1.5.0",
      "_model_name": "ProgressStyleModel",
      "_view_count": null,
      "_view_module": "@jupyter-widgets/base",
      "_view_module_version": "1.2.0",
      "_view_name": "StyleView",
      "bar_color": null,
      "description_width": ""
     }
    },
    "3b1fc4a7abd54b3aa5977fcf689d265c": {
     "model_module": "@jupyter-widgets/controls",
     "model_module_version": "1.5.0",
     "model_name": "DescriptionStyleModel",
     "state": {
      "_model_module": "@jupyter-widgets/controls",
      "_model_module_version": "1.5.0",
      "_model_name": "DescriptionStyleModel",
      "_view_count": null,
      "_view_module": "@jupyter-widgets/base",
      "_view_module_version": "1.2.0",
      "_view_name": "StyleView",
      "description_width": ""
     }
    },
    "467586236648472c896476833014c34b": {
     "model_module": "@jupyter-widgets/controls",
     "model_module_version": "1.5.0",
     "model_name": "FloatProgressModel",
     "state": {
      "_dom_classes": [],
      "_model_module": "@jupyter-widgets/controls",
      "_model_module_version": "1.5.0",
      "_model_name": "FloatProgressModel",
      "_view_count": null,
      "_view_module": "@jupyter-widgets/controls",
      "_view_module_version": "1.5.0",
      "_view_name": "ProgressView",
      "bar_style": "success",
      "description": "",
      "description_tooltip": null,
      "layout": "IPY_MODEL_c209ff3f4cca497d91ce86c966eaf331",
      "max": 2,
      "min": 0,
      "orientation": "horizontal",
      "style": "IPY_MODEL_f2cd70cfc7114837a5dde440ba5acd41",
      "value": 2
     }
    },
    "57c80c3d41c141228f16881ec360727c": {
     "model_module": "@jupyter-widgets/base",
     "model_module_version": "1.2.0",
     "model_name": "LayoutModel",
     "state": {
      "_model_module": "@jupyter-widgets/base",
      "_model_module_version": "1.2.0",
      "_model_name": "LayoutModel",
      "_view_count": null,
      "_view_module": "@jupyter-widgets/base",
      "_view_module_version": "1.2.0",
      "_view_name": "LayoutView",
      "align_content": null,
      "align_items": null,
      "align_self": null,
      "border": null,
      "bottom": null,
      "display": null,
      "flex": null,
      "flex_flow": null,
      "grid_area": null,
      "grid_auto_columns": null,
      "grid_auto_flow": null,
      "grid_auto_rows": null,
      "grid_column": null,
      "grid_gap": null,
      "grid_row": null,
      "grid_template_areas": null,
      "grid_template_columns": null,
      "grid_template_rows": null,
      "height": null,
      "justify_content": null,
      "justify_items": null,
      "left": null,
      "margin": null,
      "max_height": null,
      "max_width": null,
      "min_height": null,
      "min_width": null,
      "object_fit": null,
      "object_position": null,
      "order": null,
      "overflow": null,
      "overflow_x": null,
      "overflow_y": null,
      "padding": null,
      "right": null,
      "top": null,
      "visibility": null,
      "width": null
     }
    },
    "58db6223d6544afb84116034142c1a88": {
     "model_module": "@jupyter-widgets/controls",
     "model_module_version": "1.5.0",
     "model_name": "FloatProgressModel",
     "state": {
      "_dom_classes": [],
      "_model_module": "@jupyter-widgets/controls",
      "_model_module_version": "1.5.0",
      "_model_name": "FloatProgressModel",
      "_view_count": null,
      "_view_module": "@jupyter-widgets/controls",
      "_view_module_version": "1.5.0",
      "_view_name": "ProgressView",
      "bar_style": "success",
      "description": "",
      "description_tooltip": null,
      "layout": "IPY_MODEL_d9cd1e8c1afe43a7a1daa88f4bf3e3c9",
      "max": 41,
      "min": 0,
      "orientation": "horizontal",
      "style": "IPY_MODEL_6353a5b391d149c0a54e660dc3a457a8",
      "value": 41
     }
    },
    "6353a5b391d149c0a54e660dc3a457a8": {
     "model_module": "@jupyter-widgets/controls",
     "model_module_version": "1.5.0",
     "model_name": "ProgressStyleModel",
     "state": {
      "_model_module": "@jupyter-widgets/controls",
      "_model_module_version": "1.5.0",
      "_model_name": "ProgressStyleModel",
      "_view_count": null,
      "_view_module": "@jupyter-widgets/base",
      "_view_module_version": "1.2.0",
      "_view_name": "StyleView",
      "bar_color": null,
      "description_width": ""
     }
    },
    "6fb60ba21c5c4f31a8f2697a66698051": {
     "model_module": "@jupyter-widgets/base",
     "model_module_version": "1.2.0",
     "model_name": "LayoutModel",
     "state": {
      "_model_module": "@jupyter-widgets/base",
      "_model_module_version": "1.2.0",
      "_model_name": "LayoutModel",
      "_view_count": null,
      "_view_module": "@jupyter-widgets/base",
      "_view_module_version": "1.2.0",
      "_view_name": "LayoutView",
      "align_content": null,
      "align_items": null,
      "align_self": null,
      "border": null,
      "bottom": null,
      "display": null,
      "flex": null,
      "flex_flow": null,
      "grid_area": null,
      "grid_auto_columns": null,
      "grid_auto_flow": null,
      "grid_auto_rows": null,
      "grid_column": null,
      "grid_gap": null,
      "grid_row": null,
      "grid_template_areas": null,
      "grid_template_columns": null,
      "grid_template_rows": null,
      "height": null,
      "justify_content": null,
      "justify_items": null,
      "left": null,
      "margin": null,
      "max_height": null,
      "max_width": null,
      "min_height": null,
      "min_width": null,
      "object_fit": null,
      "object_position": null,
      "order": null,
      "overflow": null,
      "overflow_x": null,
      "overflow_y": null,
      "padding": null,
      "right": null,
      "top": null,
      "visibility": null,
      "width": null
     }
    },
    "7b288177f1ae412ea9bf62934d4dad6b": {
     "model_module": "@jupyter-widgets/controls",
     "model_module_version": "1.5.0",
     "model_name": "HTMLModel",
     "state": {
      "_dom_classes": [],
      "_model_module": "@jupyter-widgets/controls",
      "_model_module_version": "1.5.0",
      "_model_name": "HTMLModel",
      "_view_count": null,
      "_view_module": "@jupyter-widgets/controls",
      "_view_module_version": "1.5.0",
      "_view_name": "HTMLView",
      "description": "",
      "description_tooltip": null,
      "layout": "IPY_MODEL_2a0696cc2c5e464287c2ac02da906a94",
      "placeholder": "​",
      "style": "IPY_MODEL_aaf039b1f715457db2936149979d0f71",
      "value": "Loading checkpoint shards: 100%"
     }
    },
    "80915be8bb99412c8800fb523410c597": {
     "model_module": "@jupyter-widgets/controls",
     "model_module_version": "1.5.0",
     "model_name": "DescriptionStyleModel",
     "state": {
      "_model_module": "@jupyter-widgets/controls",
      "_model_module_version": "1.5.0",
      "_model_name": "DescriptionStyleModel",
      "_view_count": null,
      "_view_module": "@jupyter-widgets/base",
      "_view_module_version": "1.2.0",
      "_view_name": "StyleView",
      "description_width": ""
     }
    },
    "83de1f3dddbc4b9e9c2ce7d62ce778ba": {
     "model_module": "@jupyter-widgets/base",
     "model_module_version": "1.2.0",
     "model_name": "LayoutModel",
     "state": {
      "_model_module": "@jupyter-widgets/base",
      "_model_module_version": "1.2.0",
      "_model_name": "LayoutModel",
      "_view_count": null,
      "_view_module": "@jupyter-widgets/base",
      "_view_module_version": "1.2.0",
      "_view_name": "LayoutView",
      "align_content": null,
      "align_items": null,
      "align_self": null,
      "border": null,
      "bottom": null,
      "display": null,
      "flex": null,
      "flex_flow": null,
      "grid_area": null,
      "grid_auto_columns": null,
      "grid_auto_flow": null,
      "grid_auto_rows": null,
      "grid_column": null,
      "grid_gap": null,
      "grid_row": null,
      "grid_template_areas": null,
      "grid_template_columns": null,
      "grid_template_rows": null,
      "height": null,
      "justify_content": null,
      "justify_items": null,
      "left": null,
      "margin": null,
      "max_height": null,
      "max_width": null,
      "min_height": null,
      "min_width": null,
      "object_fit": null,
      "object_position": null,
      "order": null,
      "overflow": null,
      "overflow_x": null,
      "overflow_y": null,
      "padding": null,
      "right": null,
      "top": null,
      "visibility": null,
      "width": null
     }
    },
    "9d2358b6f42d4b758851fef8413e07a8": {
     "model_module": "@jupyter-widgets/controls",
     "model_module_version": "1.5.0",
     "model_name": "DescriptionStyleModel",
     "state": {
      "_model_module": "@jupyter-widgets/controls",
      "_model_module_version": "1.5.0",
      "_model_name": "DescriptionStyleModel",
      "_view_count": null,
      "_view_module": "@jupyter-widgets/base",
      "_view_module_version": "1.2.0",
      "_view_name": "StyleView",
      "description_width": ""
     }
    },
    "a29896be91194bd68af97f156db28ace": {
     "model_module": "@jupyter-widgets/controls",
     "model_module_version": "1.5.0",
     "model_name": "HTMLModel",
     "state": {
      "_dom_classes": [],
      "_model_module": "@jupyter-widgets/controls",
      "_model_module_version": "1.5.0",
      "_model_name": "HTMLModel",
      "_view_count": null,
      "_view_module": "@jupyter-widgets/controls",
      "_view_module_version": "1.5.0",
      "_view_name": "HTMLView",
      "description": "",
      "description_tooltip": null,
      "layout": "IPY_MODEL_c97e1ed1c4024cdf8a9dcb9be23538ee",
      "placeholder": "​",
      "style": "IPY_MODEL_05fc38a3f229463f9e42c0485dc649ec",
      "value": "Loading dataset from disk: 100%"
     }
    },
    "aaf039b1f715457db2936149979d0f71": {
     "model_module": "@jupyter-widgets/controls",
     "model_module_version": "1.5.0",
     "model_name": "DescriptionStyleModel",
     "state": {
      "_model_module": "@jupyter-widgets/controls",
      "_model_module_version": "1.5.0",
      "_model_name": "DescriptionStyleModel",
      "_view_count": null,
      "_view_module": "@jupyter-widgets/base",
      "_view_module_version": "1.2.0",
      "_view_name": "StyleView",
      "description_width": ""
     }
    },
    "b37ca275d935407794b9760090dc2a6b": {
     "model_module": "@jupyter-widgets/controls",
     "model_module_version": "1.5.0",
     "model_name": "HTMLModel",
     "state": {
      "_dom_classes": [],
      "_model_module": "@jupyter-widgets/controls",
      "_model_module_version": "1.5.0",
      "_model_name": "HTMLModel",
      "_view_count": null,
      "_view_module": "@jupyter-widgets/controls",
      "_view_module_version": "1.5.0",
      "_view_name": "HTMLView",
      "description": "",
      "description_tooltip": null,
      "layout": "IPY_MODEL_16a98a2dd8944937a727616959c7fecc",
      "placeholder": "​",
      "style": "IPY_MODEL_bd96632a838c43b5af6cd40a3cbbefaf",
      "value": "Loading checkpoint shards: 100%"
     }
    },
    "bd96632a838c43b5af6cd40a3cbbefaf": {
     "model_module": "@jupyter-widgets/controls",
     "model_module_version": "1.5.0",
     "model_name": "DescriptionStyleModel",
     "state": {
      "_model_module": "@jupyter-widgets/controls",
      "_model_module_version": "1.5.0",
      "_model_name": "DescriptionStyleModel",
      "_view_count": null,
      "_view_module": "@jupyter-widgets/base",
      "_view_module_version": "1.2.0",
      "_view_name": "StyleView",
      "description_width": ""
     }
    },
    "c095ac0256f44513a52181192b252ffa": {
     "model_module": "@jupyter-widgets/controls",
     "model_module_version": "1.5.0",
     "model_name": "HTMLModel",
     "state": {
      "_dom_classes": [],
      "_model_module": "@jupyter-widgets/controls",
      "_model_module_version": "1.5.0",
      "_model_name": "HTMLModel",
      "_view_count": null,
      "_view_module": "@jupyter-widgets/controls",
      "_view_module_version": "1.5.0",
      "_view_name": "HTMLView",
      "description": "",
      "description_tooltip": null,
      "layout": "IPY_MODEL_e2dec70602994760b2471729657b207b",
      "placeholder": "​",
      "style": "IPY_MODEL_3b1fc4a7abd54b3aa5977fcf689d265c",
      "value": " 2/2 [00:41&lt;00:00, 19.42s/it]"
     }
    },
    "c209ff3f4cca497d91ce86c966eaf331": {
     "model_module": "@jupyter-widgets/base",
     "model_module_version": "1.2.0",
     "model_name": "LayoutModel",
     "state": {
      "_model_module": "@jupyter-widgets/base",
      "_model_module_version": "1.2.0",
      "_model_name": "LayoutModel",
      "_view_count": null,
      "_view_module": "@jupyter-widgets/base",
      "_view_module_version": "1.2.0",
      "_view_name": "LayoutView",
      "align_content": null,
      "align_items": null,
      "align_self": null,
      "border": null,
      "bottom": null,
      "display": null,
      "flex": null,
      "flex_flow": null,
      "grid_area": null,
      "grid_auto_columns": null,
      "grid_auto_flow": null,
      "grid_auto_rows": null,
      "grid_column": null,
      "grid_gap": null,
      "grid_row": null,
      "grid_template_areas": null,
      "grid_template_columns": null,
      "grid_template_rows": null,
      "height": null,
      "justify_content": null,
      "justify_items": null,
      "left": null,
      "margin": null,
      "max_height": null,
      "max_width": null,
      "min_height": null,
      "min_width": null,
      "object_fit": null,
      "object_position": null,
      "order": null,
      "overflow": null,
      "overflow_x": null,
      "overflow_y": null,
      "padding": null,
      "right": null,
      "top": null,
      "visibility": null,
      "width": null
     }
    },
    "c97e1ed1c4024cdf8a9dcb9be23538ee": {
     "model_module": "@jupyter-widgets/base",
     "model_module_version": "1.2.0",
     "model_name": "LayoutModel",
     "state": {
      "_model_module": "@jupyter-widgets/base",
      "_model_module_version": "1.2.0",
      "_model_name": "LayoutModel",
      "_view_count": null,
      "_view_module": "@jupyter-widgets/base",
      "_view_module_version": "1.2.0",
      "_view_name": "LayoutView",
      "align_content": null,
      "align_items": null,
      "align_self": null,
      "border": null,
      "bottom": null,
      "display": null,
      "flex": null,
      "flex_flow": null,
      "grid_area": null,
      "grid_auto_columns": null,
      "grid_auto_flow": null,
      "grid_auto_rows": null,
      "grid_column": null,
      "grid_gap": null,
      "grid_row": null,
      "grid_template_areas": null,
      "grid_template_columns": null,
      "grid_template_rows": null,
      "height": null,
      "justify_content": null,
      "justify_items": null,
      "left": null,
      "margin": null,
      "max_height": null,
      "max_width": null,
      "min_height": null,
      "min_width": null,
      "object_fit": null,
      "object_position": null,
      "order": null,
      "overflow": null,
      "overflow_x": null,
      "overflow_y": null,
      "padding": null,
      "right": null,
      "top": null,
      "visibility": null,
      "width": null
     }
    },
    "cad30fd0f9c34aab90b4402377cb0458": {
     "model_module": "@jupyter-widgets/controls",
     "model_module_version": "1.5.0",
     "model_name": "HBoxModel",
     "state": {
      "_dom_classes": [],
      "_model_module": "@jupyter-widgets/controls",
      "_model_module_version": "1.5.0",
      "_model_name": "HBoxModel",
      "_view_count": null,
      "_view_module": "@jupyter-widgets/controls",
      "_view_module_version": "1.5.0",
      "_view_name": "HBoxView",
      "box_style": "",
      "children": [
       "IPY_MODEL_b37ca275d935407794b9760090dc2a6b",
       "IPY_MODEL_467586236648472c896476833014c34b",
       "IPY_MODEL_1db4e02cb6894341853a8a543bb66f05"
      ],
      "layout": "IPY_MODEL_23441a7de32d4f09b8fd8a7dcef87562"
     }
    },
    "d9cd1e8c1afe43a7a1daa88f4bf3e3c9": {
     "model_module": "@jupyter-widgets/base",
     "model_module_version": "1.2.0",
     "model_name": "LayoutModel",
     "state": {
      "_model_module": "@jupyter-widgets/base",
      "_model_module_version": "1.2.0",
      "_model_name": "LayoutModel",
      "_view_count": null,
      "_view_module": "@jupyter-widgets/base",
      "_view_module_version": "1.2.0",
      "_view_name": "LayoutView",
      "align_content": null,
      "align_items": null,
      "align_self": null,
      "border": null,
      "bottom": null,
      "display": null,
      "flex": null,
      "flex_flow": null,
      "grid_area": null,
      "grid_auto_columns": null,
      "grid_auto_flow": null,
      "grid_auto_rows": null,
      "grid_column": null,
      "grid_gap": null,
      "grid_row": null,
      "grid_template_areas": null,
      "grid_template_columns": null,
      "grid_template_rows": null,
      "height": null,
      "justify_content": null,
      "justify_items": null,
      "left": null,
      "margin": null,
      "max_height": null,
      "max_width": null,
      "min_height": null,
      "min_width": null,
      "object_fit": null,
      "object_position": null,
      "order": null,
      "overflow": null,
      "overflow_x": null,
      "overflow_y": null,
      "padding": null,
      "right": null,
      "top": null,
      "visibility": null,
      "width": null
     }
    },
    "e2dec70602994760b2471729657b207b": {
     "model_module": "@jupyter-widgets/base",
     "model_module_version": "1.2.0",
     "model_name": "LayoutModel",
     "state": {
      "_model_module": "@jupyter-widgets/base",
      "_model_module_version": "1.2.0",
      "_model_name": "LayoutModel",
      "_view_count": null,
      "_view_module": "@jupyter-widgets/base",
      "_view_module_version": "1.2.0",
      "_view_name": "LayoutView",
      "align_content": null,
      "align_items": null,
      "align_self": null,
      "border": null,
      "bottom": null,
      "display": null,
      "flex": null,
      "flex_flow": null,
      "grid_area": null,
      "grid_auto_columns": null,
      "grid_auto_flow": null,
      "grid_auto_rows": null,
      "grid_column": null,
      "grid_gap": null,
      "grid_row": null,
      "grid_template_areas": null,
      "grid_template_columns": null,
      "grid_template_rows": null,
      "height": null,
      "justify_content": null,
      "justify_items": null,
      "left": null,
      "margin": null,
      "max_height": null,
      "max_width": null,
      "min_height": null,
      "min_width": null,
      "object_fit": null,
      "object_position": null,
      "order": null,
      "overflow": null,
      "overflow_x": null,
      "overflow_y": null,
      "padding": null,
      "right": null,
      "top": null,
      "visibility": null,
      "width": null
     }
    },
    "eab1247782c94d4f8e208c2231659458": {
     "model_module": "@jupyter-widgets/controls",
     "model_module_version": "1.5.0",
     "model_name": "HBoxModel",
     "state": {
      "_dom_classes": [],
      "_model_module": "@jupyter-widgets/controls",
      "_model_module_version": "1.5.0",
      "_model_name": "HBoxModel",
      "_view_count": null,
      "_view_module": "@jupyter-widgets/controls",
      "_view_module_version": "1.5.0",
      "_view_name": "HBoxView",
      "box_style": "",
      "children": [
       "IPY_MODEL_a29896be91194bd68af97f156db28ace",
       "IPY_MODEL_58db6223d6544afb84116034142c1a88",
       "IPY_MODEL_f146dde788db419bb09664571f2daf87"
      ],
      "layout": "IPY_MODEL_f5e7c0186f0349ea99b3796786f6d93b"
     }
    },
    "f146dde788db419bb09664571f2daf87": {
     "model_module": "@jupyter-widgets/controls",
     "model_module_version": "1.5.0",
     "model_name": "HTMLModel",
     "state": {
      "_dom_classes": [],
      "_model_module": "@jupyter-widgets/controls",
      "_model_module_version": "1.5.0",
      "_model_name": "HTMLModel",
      "_view_count": null,
      "_view_module": "@jupyter-widgets/controls",
      "_view_module_version": "1.5.0",
      "_view_name": "HTMLView",
      "description": "",
      "description_tooltip": null,
      "layout": "IPY_MODEL_6fb60ba21c5c4f31a8f2697a66698051",
      "placeholder": "​",
      "style": "IPY_MODEL_80915be8bb99412c8800fb523410c597",
      "value": " 41/41 [00:05&lt;00:00,  8.98it/s]"
     }
    },
    "f2cd70cfc7114837a5dde440ba5acd41": {
     "model_module": "@jupyter-widgets/controls",
     "model_module_version": "1.5.0",
     "model_name": "ProgressStyleModel",
     "state": {
      "_model_module": "@jupyter-widgets/controls",
      "_model_module_version": "1.5.0",
      "_model_name": "ProgressStyleModel",
      "_view_count": null,
      "_view_module": "@jupyter-widgets/base",
      "_view_module_version": "1.2.0",
      "_view_name": "StyleView",
      "bar_color": null,
      "description_width": ""
     }
    },
    "f5e7c0186f0349ea99b3796786f6d93b": {
     "model_module": "@jupyter-widgets/base",
     "model_module_version": "1.2.0",
     "model_name": "LayoutModel",
     "state": {
      "_model_module": "@jupyter-widgets/base",
      "_model_module_version": "1.2.0",
      "_model_name": "LayoutModel",
      "_view_count": null,
      "_view_module": "@jupyter-widgets/base",
      "_view_module_version": "1.2.0",
      "_view_name": "LayoutView",
      "align_content": null,
      "align_items": null,
      "align_self": null,
      "border": null,
      "bottom": null,
      "display": null,
      "flex": null,
      "flex_flow": null,
      "grid_area": null,
      "grid_auto_columns": null,
      "grid_auto_flow": null,
      "grid_auto_rows": null,
      "grid_column": null,
      "grid_gap": null,
      "grid_row": null,
      "grid_template_areas": null,
      "grid_template_columns": null,
      "grid_template_rows": null,
      "height": null,
      "justify_content": null,
      "justify_items": null,
      "left": null,
      "margin": null,
      "max_height": null,
      "max_width": null,
      "min_height": null,
      "min_width": null,
      "object_fit": null,
      "object_position": null,
      "order": null,
      "overflow": null,
      "overflow_x": null,
      "overflow_y": null,
      "padding": null,
      "right": null,
      "top": null,
      "visibility": null,
      "width": null
     }
    }
   }
  }
 },
 "nbformat": 4,
 "nbformat_minor": 0
}
